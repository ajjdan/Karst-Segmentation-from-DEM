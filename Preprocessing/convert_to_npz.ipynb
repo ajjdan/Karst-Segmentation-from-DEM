{
 "cells": [
  {
   "cell_type": "code",
   "execution_count": 1,
   "metadata": {},
   "outputs": [],
   "source": [
    "import numpy as np\n",
    "from osgeo import gdal\n",
    "import pathlib\n",
    "import os"
   ]
  },
  {
   "cell_type": "code",
   "execution_count": 2,
   "metadata": {},
   "outputs": [
    {
     "name": "stdout",
     "output_type": "stream",
     "text": [
      "Number of Testing images: 24564.800000000003\n",
      "Number of Testing images: 6141.200000000001\n"
     ]
    }
   ],
   "source": [
    "print(\"Number of Testing images:\" ,30706*0.8)\n",
    "print(\"Number of Testing images:\" ,30706*0.2)"
   ]
  },
  {
   "cell_type": "code",
   "execution_count": 7,
   "metadata": {},
   "outputs": [
    {
     "name": "stdout",
     "output_type": "stream",
     "text": [
      "6532\n",
      "1632\n",
      "tile23483.tif\n",
      "tile23483.tif\n",
      "D:/Masterarbeit/Data/Randbereiche/WOKAM/tile47974.tif\n",
      "D:/Masterarbeit/Data/Randbereiche/SRTM/tile47979.tif\n"
     ]
    }
   ],
   "source": [
    "array_train_img = []\n",
    "array_train_lab = []\n",
    "array_test_img = []\n",
    "array_test_lab = []\n",
    "\n",
    "img_path = \"D:/Masterarbeit/Data/Randbereiche/SRTM\"\n",
    "#img_path = \"D:/Masterarbeit/Data/RGB_tif\"\n",
    "files_img = os.listdir(img_path)\n",
    "#files_img = os.listdir(img_path)[2:]\n",
    "\n",
    "\n",
    "files_test = files_img[6533:] #30706*0.8\n",
    "files_train = files_img[:6532]\n",
    "\n",
    "#files_test = files_img[24565:] #30706*0.8\n",
    "#files_train = files_img[:24564]\n",
    "\n",
    "lab_path = \"D:/Masterarbeit/Data/Randbereiche/WOKAM\"\n",
    "#lab_path = \"D:/Masterarbeit/Data/tiles_wokam\"\n",
    "files_lab = os.listdir(lab_path)\n",
    "#files_lab = os.listdir(lab_path)[2:]\n",
    "\n",
    "print(len(files_train))\n",
    "print(len(files_test))\n",
    "\n",
    "print(files_train[2000])\n",
    "print(files_train[2000])\n",
    "\n",
    "print(lab_path + \"/\" + files_train[6531])\n",
    "print(img_path + \"/\" + files_test[3])"
   ]
  },
  {
   "cell_type": "code",
   "execution_count": 5,
   "metadata": {},
   "outputs": [],
   "source": [
    "# saving numpy for training labels\n",
    "for train_lab in files_train:\n",
    "          \n",
    "        ds = gdal.Open(lab_path + \"/\" + train_lab)\n",
    "        band1 = np.array(ds.GetRasterBand(1).ReadAsArray())\n",
    "        np.save(\"D:/Masterarbeit/Data/slope_roughness_srtm_data/data/train/annotated/\" + train_lab[:-3] + \"npy\",band1)\n",
    "        \n",
    "# saving numpy for training images\n",
    "for train_img in files_train:\n",
    "               \n",
    "        ds = gdal.Open(img_path + \"/\" + train_img)\n",
    "        band1 = np.array(ds.GetRasterBand(1).ReadAsArray())\n",
    "        band2 = np.array(ds.GetRasterBand(2).ReadAsArray())\n",
    "        band3 = np.array(ds.GetRasterBand(3).ReadAsArray())\n",
    "        rgb = np.dstack((band1,band2,band3))\n",
    "        np.save(\"D:/Masterarbeit/Data/slope_roughness_srtm_data/data/train/images/\" + train_img[:-3] + \"npy\", rgb)\n",
    "        \n",
    "# saving numpy for testing labels\n",
    "for test_lab in files_test:\n",
    "   \n",
    "        ds = gdal.Open(lab_path + \"/\" + test_lab)\n",
    "        band1 = np.array(ds.GetRasterBand(1).ReadAsArray())\n",
    "        array_test_lab.append(band1)\n",
    "        np.save(\"D:/Masterarbeit/Data/slope_roughness_srtm_data/data/test/annotated/\" + test_lab[:-3] + \"npy\",band1)\n",
    "        \n",
    "# saving numpy for testing img\n",
    "for test_img in files_test:\n",
    "   \n",
    "        ds = gdal.Open(img_path + \"/\" + test_img)\n",
    "        band1 = np.array(ds.GetRasterBand(1).ReadAsArray())\n",
    "        band2 = np.array(ds.GetRasterBand(2).ReadAsArray())\n",
    "        band3 = np.array(ds.GetRasterBand(3).ReadAsArray())\n",
    "        rgb = np.dstack((band1,band2,band3))\n",
    "        \n",
    "        np.save(\"D:/Masterarbeit/Data/slope_roughness_srtm_data/data/test/images/\"+ test_img[:-3] + \"npy\", rgb)\n",
    "\n",
    "#test_y = tf.stack(array_test_lab)"
   ]
  },
  {
   "cell_type": "code",
   "execution_count": 8,
   "metadata": {},
   "outputs": [],
   "source": [
    "# saving numpy for training images\n",
    "for train_img in files_train:\n",
    "               \n",
    "        ds = gdal.Open(img_path + \"/\" + train_img)\n",
    "        band1 = np.array(ds.GetRasterBand(1).ReadAsArray())\n",
    "        band2 = np.array(ds.GetRasterBand(2).ReadAsArray())\n",
    "        band3 = np.array(ds.GetRasterBand(3).ReadAsArray())\n",
    "        rgb = np.dstack((band1,band2,band3))\n",
    "        array_train_img.append(rgb)\n",
    "        #np.save(\"D:/Masterarbeit/Data/slope_roughness_srtm_data/data/train/images/\" + train_img[:-3] + \"npy\", out_train)\n",
    "        \n",
    "\n",
    "# saving numpy for training labels\n",
    "for train_lab in files_train:\n",
    "          \n",
    "        ds = gdal.Open(lab_path + \"/\" + train_lab)\n",
    "        band1 = np.array(ds.GetRasterBand(1).ReadAsArray())\n",
    "        band2 = np.array(ds.GetRasterBand(1).ReadAsArray())\n",
    "        band3 = np.array(ds.GetRasterBand(1).ReadAsArray())\n",
    "        rgb = np.dstack((band1,band2,band3))\n",
    "        array_train_lab.append(rgb)\n",
    "        #np.save(\"D:/Masterarbeit/Data/slope_roughness_srtm_data/data/train/annotated/\" + train_img[:-3] + \"npy\", out_train)\n",
    "        \n",
    "\n",
    "# saving numpy for testing labels\n",
    "for test_lab in files_test:\n",
    "   \n",
    "        ds = gdal.Open(lab_path + \"/\" + test_lab)\n",
    "        band1 = np.array(ds.GetRasterBand(1).ReadAsArray())\n",
    "        band2 = np.array(ds.GetRasterBand(1).ReadAsArray())\n",
    "        band3 = np.array(ds.GetRasterBand(1).ReadAsArray())\n",
    "        rgb = np.dstack((band1,band2,band3))\n",
    "        array_test_lab.append(rgb)\n",
    "        #np.save(\"D:/Masterarbeit/Data/slope_roughness_srtm_data/data/test/annotated/\" + train_img[:-3] + \"npy\", out_train)\n",
    "        \n",
    "# saving numpy for testing img\n",
    "for test_img in files_test:\n",
    "   \n",
    "        ds = gdal.Open(img_path + \"/\" + test_img)\n",
    "        band1 = np.array(ds.GetRasterBand(1).ReadAsArray())\n",
    "        band2 = np.array(ds.GetRasterBand(2).ReadAsArray())\n",
    "        band3 = np.array(ds.GetRasterBand(3).ReadAsArray())\n",
    "        rgb = np.dstack((band1,band2,band3))\n",
    "        array_test_img.append(rgb)\n",
    "        #np.save(\"D:/Masterarbeit/Data/slope_roughness_srtm_data/data/test/images/\"+ train_img[:-3] + \"npy\", out_train)\n",
    "\n",
    "#test_y = tf.stack(array_test_lab)"
   ]
  },
  {
   "cell_type": "code",
   "execution_count": 9,
   "metadata": {},
   "outputs": [],
   "source": [
    "np.savez(\"D:/Masterarbeit/Data/Randbereiche/data.npz\", x_train=array_train_img, y_train=array_train_lab, x_test = array_test_img, y_test= array_test_lab )\n",
    "#np.savez(\"D:/Masterarbeit/Data/slope_roughness_srtm_data/data_202801.npz\", x_train=array_train_img, y_train=array_train_lab, x_test = array_test_img, y_test= array_test_lab )"
   ]
  }
 ],
 "metadata": {
  "kernelspec": {
   "display_name": "Python 3",
   "language": "python",
   "name": "python3"
  },
  "language_info": {
   "codemirror_mode": {
    "name": "ipython",
    "version": 3
   },
   "file_extension": ".py",
   "mimetype": "text/x-python",
   "name": "python",
   "nbconvert_exporter": "python",
   "pygments_lexer": "ipython3",
   "version": "3.7.6"
  }
 },
 "nbformat": 4,
 "nbformat_minor": 2
}
