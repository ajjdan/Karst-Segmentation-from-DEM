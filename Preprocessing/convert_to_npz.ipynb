{
 "cells": [
  {
   "cell_type": "code",
   "execution_count": 1,
   "metadata": {},
   "outputs": [],
   "source": [
    "import numpy as np\n",
    "from osgeo import gdal\n",
    "import pathlib\n",
    "import os\n",
    "import random"
   ]
  },
  {
   "cell_type": "code",
   "execution_count": 2,
   "metadata": {},
   "outputs": [
    {
     "name": "stdout",
     "output_type": "stream",
     "text": [
      "Number of Testing images: 6709.6\n",
      "Number of Testing images: 1677.4\n"
     ]
    }
   ],
   "source": [
    "print(\"Number of Testing images:\" ,8387*0.8)\n",
    "print(\"Number of Testing images:\" ,8387*0.2)"
   ]
  },
  {
   "cell_type": "code",
   "execution_count": 3,
   "metadata": {
    "scrolled": true
   },
   "outputs": [],
   "source": [
    "img_path = \"D:/Masterarbeit/Data/Balkans/modified_10/rgb\""
   ]
  },
  {
   "cell_type": "code",
   "execution_count": 4,
   "metadata": {},
   "outputs": [
    {
     "name": "stdout",
     "output_type": "stream",
     "text": [
      "tile10.tif\n",
      "tile18.tif\n",
      "True\n"
     ]
    }
   ],
   "source": [
    "array_train_img = []\n",
    "array_train_lab = []\n",
    "array_test_img = []\n",
    "array_test_lab = []\n",
    "\n",
    "img_path = \"D:/Masterarbeit/Data/Balkans/modified_10/rgb\"\n",
    "lab_path = \"D:/Masterarbeit/Data/Balkans/modified_10/wokam\"\n",
    "\n",
    "\n",
    "files_img = os.listdir(img_path)\n",
    "print(files_img[1])\n",
    "random.shuffle(files_img)\n",
    "print(files_img[1])\n",
    "\n",
    "files_lab = os.listdir(lab_path)\n",
    "\n",
    "result =  all(elem in files_lab  for elem in files_img)\n",
    "print(result)"
   ]
  },
  {
   "cell_type": "code",
   "execution_count": 5,
   "metadata": {},
   "outputs": [
    {
     "name": "stdout",
     "output_type": "stream",
     "text": [
      "6711\n",
      "1677\n",
      "tile4477.tif\n",
      "tile4477.tif\n",
      "D:/Masterarbeit/Data/Balkans/modified_10/wokam/tile5168.tif\n",
      "D:/Masterarbeit/Data/Balkans/modified_10/rgb/tile4353.tif\n"
     ]
    }
   ],
   "source": [
    "files_test = files_img[6710:] #11604*0.8\n",
    "files_train = files_img[:6711]\n",
    "\n",
    "print(len(files_train))\n",
    "print(len(files_test))\n",
    "\n",
    "print(files_train[2000])\n",
    "print(files_train[2000])\n",
    "\n",
    "print(lab_path + \"/\" + files_train[1000])\n",
    "print(img_path + \"/\" + files_test[1000])"
   ]
  },
  {
   "cell_type": "code",
   "execution_count": null,
   "metadata": {},
   "outputs": [],
   "source": [
    "# saving numpy for training images\n",
    "for train_img in files_train:\n",
    "               \n",
    "        ds = gdal.Open(img_path + \"/\" + train_img)\n",
    "        band1 = np.array(ds.GetRasterBand(1).ReadAsArray())\n",
    "        if  band1.shape == (128,128):\n",
    "            band2 = np.array(ds.GetRasterBand(2).ReadAsArray())\n",
    "            band3 = np.array(ds.GetRasterBand(3).ReadAsArray())\n",
    "            rgb = np.dstack((band1,band2,band3))\n",
    "            array_train_img.append(rgb)\n",
    "        #np.save(\"D:/Masterarbeit/Data/slope_roughness_srtm_data/data/train/images/\" + train_img[:-3] + \"npy\", out_train)\n",
    "        \n",
    "\n",
    "# saving numpy for training labels\n",
    "for train_lab in files_train:\n",
    "          \n",
    "        ds = gdal.Open(lab_path + \"/\" + train_lab)\n",
    "        band1 = np.array(ds.GetRasterBand(1).ReadAsArray())\n",
    "        if  band1.shape == (128,128):\n",
    "            band2 = np.array(ds.GetRasterBand(1).ReadAsArray())\n",
    "            band3 = np.array(ds.GetRasterBand(1).ReadAsArray())\n",
    "            rgb = np.dstack((band1,band2,band3))\n",
    "            array_train_lab.append(rgb)\n",
    "        #np.save(\"D:/Masterarbeit/Data/slope_roughness_srtm_data/data/train/annotated/\" + train_img[:-3] + \"npy\", out_train)\n",
    "        \n",
    "\n",
    "# saving numpy for testing labels\n",
    "for test_lab in files_test:\n",
    "   \n",
    "        ds = gdal.Open(lab_path + \"/\" + test_lab)\n",
    "        band1 = np.array(ds.GetRasterBand(1).ReadAsArray())\n",
    "        if  band1.shape == (128,128):\n",
    "            band2 = np.array(ds.GetRasterBand(1).ReadAsArray())\n",
    "            band3 = np.array(ds.GetRasterBand(1).ReadAsArray())\n",
    "            rgb = np.dstack((band1,band2,band3))\n",
    "            array_test_lab.append(rgb)\n",
    "        #np.save(\"D:/Masterarbeit/Data/slope_roughness_srtm_data/data/test/annotated/\" + train_img[:-3] + \"npy\", out_train)\n",
    "        \n",
    "# saving numpy for testing img\n",
    "for test_img in files_test:\n",
    "   \n",
    "        ds = gdal.Open(img_path + \"/\" + test_img)\n",
    "        band1 = np.array(ds.GetRasterBand(1).ReadAsArray())\n",
    "        if  band1.shape == (128,128):\n",
    "            band2 = np.array(ds.GetRasterBand(2).ReadAsArray())\n",
    "            band3 = np.array(ds.GetRasterBand(3).ReadAsArray())\n",
    "            rgb = np.dstack((band1,band2,band3))\n",
    "            array_test_img.append(rgb)\n",
    "        #np.save(\"D:/Masterarbeit/Data/slope_roughness_srtm_data/data/test/images/\"+ train_img[:-3] + \"npy\", out_train)\n",
    "\n",
    "#test_y = tf.stack(array_test_lab)"
   ]
  },
  {
   "cell_type": "code",
   "execution_count": 21,
   "metadata": {
    "scrolled": true
   },
   "outputs": [
    {
     "name": "stderr",
     "output_type": "stream",
     "text": [
      "IOPub data rate exceeded.\n",
      "The notebook server will temporarily stop sending output\n",
      "to the client in order to avoid crashing it.\n",
      "To change this limit, set the config variable\n",
      "`--NotebookApp.iopub_data_rate_limit`.\n",
      "\n",
      "Current values:\n",
      "NotebookApp.iopub_data_rate_limit=1000000.0 (bytes/sec)\n",
      "NotebookApp.rate_limit_window=3.0 (secs)\n",
      "\n"
     ]
    }
   ],
   "source": [
    "print(array_test_img.shape)"
   ]
  },
  {
   "cell_type": "code",
   "execution_count": null,
   "metadata": {},
   "outputs": [],
   "source": [
    "np.savez(\"D:/Masterarbeit/Data/Balkans/data/data_balkans_modified_10.npz\", x_train=array_train_img, y_train=array_train_lab, x_test = array_test_img, y_test= array_test_lab )\n",
    "#np.savez(\"D:/Masterarbeit/Data/slope_roughness_srtm_data/data_202801.npz\", x_train=array_train_img, y_train=array_train_lab, x_test = array_test_img, y_test= array_test_lab )"
   ]
  }
 ],
 "metadata": {
  "kernelspec": {
   "display_name": "Python 3",
   "language": "python",
   "name": "python3"
  },
  "language_info": {
   "codemirror_mode": {
    "name": "ipython",
    "version": 3
   },
   "file_extension": ".py",
   "mimetype": "text/x-python",
   "name": "python",
   "nbconvert_exporter": "python",
   "pygments_lexer": "ipython3",
   "version": "3.7.4"
  }
 },
 "nbformat": 4,
 "nbformat_minor": 2
}
