{
 "cells": [
  {
   "cell_type": "code",
   "execution_count": 1,
   "metadata": {},
   "outputs": [],
   "source": [
    "import numpy as np\n",
    "from osgeo import gdal\n",
    "import pathlib\n",
    "import os\n",
    "import random\n",
    "from osgeo import gdal_array"
   ]
  },
  {
   "cell_type": "code",
   "execution_count": 2,
   "metadata": {},
   "outputs": [
    {
     "name": "stdout",
     "output_type": "stream",
     "text": [
      "Number of Testing images: 6709.6\n",
      "Number of Testing images: 1677.4\n"
     ]
    }
   ],
   "source": [
    "print(\"Number of Testing images:\" ,8387*0.8)\n",
    "print(\"Number of Testing images:\" ,8387*0.2)"
   ]
  },
  {
   "cell_type": "code",
   "execution_count": 3,
   "metadata": {
    "scrolled": true
   },
   "outputs": [],
   "source": [
    "img_path = \"D:/Masterarbeit/Data/rescaled/SRTM\""
   ]
  },
  {
   "cell_type": "code",
   "execution_count": 4,
   "metadata": {},
   "outputs": [
    {
     "name": "stdout",
     "output_type": "stream",
     "text": [
      "tile10481.tif\n",
      "tile62035.tif\n",
      "True\n"
     ]
    }
   ],
   "source": [
    "img_path = \"D:/Masterarbeit/Data/rescaled/SRTM\"\n",
    "lab_path = \"D:/Masterarbeit/Data/rescaled/WOKAM\"\n",
    "\n",
    "\n",
    "files_img = os.listdir(img_path)\n",
    "print(files_img[1])\n",
    "random.shuffle(files_img)\n",
    "print(files_img[1])\n",
    "\n",
    "files_lab = os.listdir(lab_path)\n",
    "\n",
    "result =  all(elem in files_lab  for elem in files_img)\n",
    "print(result)"
   ]
  },
  {
   "cell_type": "code",
   "execution_count": 5,
   "metadata": {},
   "outputs": [],
   "source": [
    "array_train_img = []\n",
    "array_train_lab = []\n",
    "array_test_img = []\n",
    "array_test_lab = []"
   ]
  },
  {
   "cell_type": "code",
   "execution_count": 6,
   "metadata": {},
   "outputs": [
    {
     "name": "stdout",
     "output_type": "stream",
     "text": [
      "6711\n",
      "2117\n",
      "tile27228.tif\n",
      "tile27228.tif\n",
      "D:/Masterarbeit/Data/rescaled/WOKAM/tile62952.tif\n",
      "D:/Masterarbeit/Data/rescaled/SRTM/tile32897.tif\n"
     ]
    }
   ],
   "source": [
    "files_test = files_img[6710:] #11604*0.8\n",
    "files_train = files_img[:6711]\n",
    "\n",
    "print(len(files_train))\n",
    "print(len(files_test))\n",
    "\n",
    "print(files_train[2000])\n",
    "print(files_train[2000])\n",
    "\n",
    "print(lab_path + \"/\" + files_train[1000])\n",
    "print(img_path + \"/\" + files_test[1000])"
   ]
  },
  {
   "cell_type": "code",
   "execution_count": 9,
   "metadata": {},
   "outputs": [],
   "source": [
    "for train_img in files_train:\n",
    "    rasterArray = gdal_array.LoadFile(img_path + \"/\" + train_img)\n",
    "    array_train_img.append(rasterArray)\n",
    "\n",
    "for test_img in files_test:\n",
    "    rasterArray = gdal_array.LoadFile(img_path + \"/\" + test_img)\n",
    "    array_test_img.append(rasterArray)\n",
    "    \n",
    "for train_lab in files_train:\n",
    "    rasterArray = gdal_array.LoadFile(lab_path + \"/\" + train_lab)\n",
    "    array_train_lab.append(rasterArray)\n",
    "    \n",
    "for test_lab in files_test:\n",
    "    rasterArray = gdal_array.LoadFile(lab_path + \"/\" + test_lab)\n",
    "    array_test_lab.append(rasterArray)"
   ]
  },
  {
   "cell_type": "code",
   "execution_count": 7,
   "metadata": {},
   "outputs": [],
   "source": [
    "# saving numpy for training images\n",
    "for train_img in files_train:\n",
    "               \n",
    "        ds = gdal.Open(img_path + \"/\" + train_img)\n",
    "        band1 = np.array(ds.GetRasterBand(1).ReadAsArray())\n",
    "        #if  band1.shape == (128,128):\n",
    "        band2 = np.array(ds.GetRasterBand(2).ReadAsArray())\n",
    "            #band3 = np.array(ds.GetRasterBand(3).ReadAsArray())\n",
    "            #rgb = np.dstack((band1,band2,band3))\n",
    "        rgb = np.dstack((band1,band2))\n",
    "        array_train_img.append(rgb)\n",
    "        #np.save(\"D:/Masterarbeit/Data/slope_roughness_srtm_data/data/train/images/\" + train_img[:-3] + \"npy\", out_train)\n",
    "        \n",
    "\n",
    "# saving numpy for training labels\n",
    "for train_lab in files_train:\n",
    "          \n",
    "        ds = gdal.Open(lab_path + \"/\" + train_lab)\n",
    "        band1 = np.array(ds.GetRasterBand(1).ReadAsArray())\n",
    "        #if  band1.shape == (128,128):\n",
    "            #band2 = np.array(ds.GetRasterBand(1).ReadAsArray())\n",
    "            #band3 = np.array(ds.GetRasterBand(1).ReadAsArray())\n",
    "            #rgb = np.dstack((band1,band2,band3))\n",
    "        #rgb = np.dstack((band1))\n",
    "        array_train_lab.append(band1)\n",
    "        #np.save(\"D:/Masterarbeit/Data/slope_roughness_srtm_data/data/train/annotated/\" + train_img[:-3] + \"npy\", out_train)\n",
    "        \n",
    "\n",
    "# saving numpy for testing labels\n",
    "for test_lab in files_test:\n",
    "   \n",
    "        ds = gdal.Open(lab_path + \"/\" + test_lab)\n",
    "        band1 = np.array(ds.GetRasterBand(1).ReadAsArray())\n",
    "        #if  band1.shape == (128,128):\n",
    "            #band2 = np.array(ds.GetRasterBand(1).ReadAsArray())\n",
    "            #band3 = np.array(ds.GetRasterBand(1).ReadAsArray())\n",
    "            #rgb = np.dstack((band1,band2,band3))\n",
    "        #rgb = np.dstack((band1))\n",
    "        array_test_lab.append(band1)\n",
    "        #np.save(\"D:/Masterarbeit/Data/slope_roughness_srtm_data/data/test/annotated/\" + train_img[:-3] + \"npy\", out_train)\n",
    "        \n",
    "# saving numpy for testing img\n",
    "for test_img in files_test:\n",
    "   \n",
    "        ds = gdal.Open(img_path + \"/\" + test_img)\n",
    "        band1 = np.array(ds.GetRasterBand(1).ReadAsArray())\n",
    "        #if  band1.shape == (128,128):\n",
    "        band2 = np.array(ds.GetRasterBand(2).ReadAsArray())\n",
    "            #band3 = np.array(ds.GetRasterBand(3).ReadAsArray())\n",
    "            #rgb = np.dstack((band1,band2,band3))\n",
    "        rgb = np.dstack((band1,band2))\n",
    "        array_test_img.append(rgb)\n",
    "        #np.save(\"D:/Masterarbeit/Data/slope_roughness_srtm_data/data/test/images/\"+ train_img[:-3] + \"npy\", out_train)\n",
    "\n",
    "#test_y = tf.stack(array_test_lab)"
   ]
  },
  {
   "cell_type": "code",
   "execution_count": 10,
   "metadata": {
    "scrolled": true
   },
   "outputs": [
    {
     "ename": "AttributeError",
     "evalue": "'list' object has no attribute 'shape'",
     "output_type": "error",
     "traceback": [
      "\u001b[1;31m---------------------------------------------------------------------------\u001b[0m",
      "\u001b[1;31mAttributeError\u001b[0m                            Traceback (most recent call last)",
      "\u001b[1;32m<ipython-input-10-9fffd6a967d4>\u001b[0m in \u001b[0;36m<module>\u001b[1;34m\u001b[0m\n\u001b[1;32m----> 1\u001b[1;33m \u001b[0mprint\u001b[0m\u001b[1;33m(\u001b[0m\u001b[0marray_test_img\u001b[0m\u001b[1;33m.\u001b[0m\u001b[0mshape\u001b[0m\u001b[1;33m)\u001b[0m\u001b[1;33m\u001b[0m\u001b[1;33m\u001b[0m\u001b[0m\n\u001b[0m",
      "\u001b[1;31mAttributeError\u001b[0m: 'list' object has no attribute 'shape'"
     ]
    }
   ],
   "source": [
    "print(array_test_img.shape)"
   ]
  },
  {
   "cell_type": "code",
   "execution_count": 8,
   "metadata": {},
   "outputs": [],
   "source": [
    "np.savez(\"D:/Masterarbeit/Data/rescaled/data_stretch.npz\", x_train=array_train_img, y_train=array_train_lab, x_test = array_test_img, y_test= array_test_lab )\n",
    "#np.savez(\"D:/Masterarbeit/Data/slope_roughness_srtm_data/data_202801.npz\", x_train=array_train_img, y_train=array_train_lab, x_test = array_test_img, y_test= array_test_lab )"
   ]
  }
 ],
 "metadata": {
  "kernelspec": {
   "display_name": "Python 3",
   "language": "python",
   "name": "python3"
  },
  "language_info": {
   "codemirror_mode": {
    "name": "ipython",
    "version": 3
   },
   "file_extension": ".py",
   "mimetype": "text/x-python",
   "name": "python",
   "nbconvert_exporter": "python",
   "pygments_lexer": "ipython3",
   "version": "3.7.6"
  }
 },
 "nbformat": 4,
 "nbformat_minor": 2
}
